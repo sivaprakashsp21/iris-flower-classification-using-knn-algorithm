{
 "cells": [
  {
   "cell_type": "markdown",
   "id": "cf292b3d",
   "metadata": {},
   "source": [
    "# KNN IMPLEMENTATION ON IRIS DATASET"
   ]
  },
  {
   "cell_type": "code",
   "execution_count": 1,
   "id": "4d61e57f",
   "metadata": {},
   "outputs": [],
   "source": [
    "import pandas as pd\n",
    "import numpy as np\n",
    "import matplotlib.pyplot as plt\n",
    "import seaborn as sns\n",
    "from sklearn import datasets\n",
    "from sklearn.model_selection import train_test_split\n",
    "from sklearn.preprocessing import StandardScaler\n",
    "from sklearn.model_selection import train_test_split\n",
    "from sklearn.preprocessing import StandardScaler\n"
   ]
  },
  {
   "cell_type": "markdown",
   "id": "cbcf9f04",
   "metadata": {},
   "source": [
    "# loading dataset"
   ]
  },
  {
   "cell_type": "code",
   "execution_count": 2,
   "id": "a08c5ce4",
   "metadata": {
    "scrolled": true
   },
   "outputs": [
    {
     "data": {
      "text/html": [
       "<div>\n",
       "<style scoped>\n",
       "    .dataframe tbody tr th:only-of-type {\n",
       "        vertical-align: middle;\n",
       "    }\n",
       "\n",
       "    .dataframe tbody tr th {\n",
       "        vertical-align: top;\n",
       "    }\n",
       "\n",
       "    .dataframe thead th {\n",
       "        text-align: right;\n",
       "    }\n",
       "</style>\n",
       "<table border=\"1\" class=\"dataframe\">\n",
       "  <thead>\n",
       "    <tr style=\"text-align: right;\">\n",
       "      <th></th>\n",
       "      <th>sepal length (cm)</th>\n",
       "      <th>sepal width (cm)</th>\n",
       "      <th>petal length (cm)</th>\n",
       "      <th>petal width (cm)</th>\n",
       "      <th>target</th>\n",
       "    </tr>\n",
       "  </thead>\n",
       "  <tbody>\n",
       "    <tr>\n",
       "      <th>0</th>\n",
       "      <td>5.1</td>\n",
       "      <td>3.5</td>\n",
       "      <td>1.4</td>\n",
       "      <td>0.2</td>\n",
       "      <td>0</td>\n",
       "    </tr>\n",
       "    <tr>\n",
       "      <th>1</th>\n",
       "      <td>4.9</td>\n",
       "      <td>3.0</td>\n",
       "      <td>1.4</td>\n",
       "      <td>0.2</td>\n",
       "      <td>0</td>\n",
       "    </tr>\n",
       "    <tr>\n",
       "      <th>2</th>\n",
       "      <td>4.7</td>\n",
       "      <td>3.2</td>\n",
       "      <td>1.3</td>\n",
       "      <td>0.2</td>\n",
       "      <td>0</td>\n",
       "    </tr>\n",
       "    <tr>\n",
       "      <th>3</th>\n",
       "      <td>4.6</td>\n",
       "      <td>3.1</td>\n",
       "      <td>1.5</td>\n",
       "      <td>0.2</td>\n",
       "      <td>0</td>\n",
       "    </tr>\n",
       "    <tr>\n",
       "      <th>4</th>\n",
       "      <td>5.0</td>\n",
       "      <td>3.6</td>\n",
       "      <td>1.4</td>\n",
       "      <td>0.2</td>\n",
       "      <td>0</td>\n",
       "    </tr>\n",
       "  </tbody>\n",
       "</table>\n",
       "</div>"
      ],
      "text/plain": [
       "   sepal length (cm)  sepal width (cm)  petal length (cm)  petal width (cm)   \n",
       "0                5.1               3.5                1.4               0.2  \\\n",
       "1                4.9               3.0                1.4               0.2   \n",
       "2                4.7               3.2                1.3               0.2   \n",
       "3                4.6               3.1                1.5               0.2   \n",
       "4                5.0               3.6                1.4               0.2   \n",
       "\n",
       "   target  \n",
       "0       0  \n",
       "1       0  \n",
       "2       0  \n",
       "3       0  \n",
       "4       0  "
      ]
     },
     "execution_count": 2,
     "metadata": {},
     "output_type": "execute_result"
    }
   ],
   "source": [
    "iris = datasets.load_iris()\n",
    "df = pd.DataFrame(data=iris.data, columns=iris.feature_names)\n",
    "df['target'] = iris.target\n",
    "#df = df.sample(frac = 1)\n",
    "df.head()"
   ]
  },
  {
   "cell_type": "markdown",
   "id": "18f7f587",
   "metadata": {},
   "source": [
    "This Iris dataset includes three iris species with 50 samples each as well as some properties about each flower. One flower species is linearly separable from the other two, but the other two are not linearly separable from each other. The columns in this dataset are:\n",
    "Id\n",
    "SepalLengthCm\n",
    "SepalWidthCm\n",
    "PetalLengthCm\n",
    "PetalWidthCm\n",
    "Species"
   ]
  },
  {
   "cell_type": "markdown",
   "id": "d227f161",
   "metadata": {},
   "source": [
    "# Statistical Characteristics of Dataset"
   ]
  },
  {
   "cell_type": "code",
   "execution_count": 3,
   "id": "badb8f33",
   "metadata": {},
   "outputs": [
    {
     "data": {
      "text/plain": [
       "<bound method NDFrame.describe of      sepal length (cm)  sepal width (cm)  petal length (cm)  petal width (cm)   \n",
       "0                  5.1               3.5                1.4               0.2  \\\n",
       "1                  4.9               3.0                1.4               0.2   \n",
       "2                  4.7               3.2                1.3               0.2   \n",
       "3                  4.6               3.1                1.5               0.2   \n",
       "4                  5.0               3.6                1.4               0.2   \n",
       "..                 ...               ...                ...               ...   \n",
       "145                6.7               3.0                5.2               2.3   \n",
       "146                6.3               2.5                5.0               1.9   \n",
       "147                6.5               3.0                5.2               2.0   \n",
       "148                6.2               3.4                5.4               2.3   \n",
       "149                5.9               3.0                5.1               1.8   \n",
       "\n",
       "     target  \n",
       "0         0  \n",
       "1         0  \n",
       "2         0  \n",
       "3         0  \n",
       "4         0  \n",
       "..      ...  \n",
       "145       2  \n",
       "146       2  \n",
       "147       2  \n",
       "148       2  \n",
       "149       2  \n",
       "\n",
       "[150 rows x 5 columns]>"
      ]
     },
     "execution_count": 3,
     "metadata": {},
     "output_type": "execute_result"
    }
   ],
   "source": [
    "df.describe"
   ]
  },
  {
   "cell_type": "markdown",
   "id": "7926aa33",
   "metadata": {},
   "source": [
    "# Data Transformation"
   ]
  },
  {
   "cell_type": "markdown",
   "id": "4b0ad40d",
   "metadata": {},
   "source": [
    "# Missing values"
   ]
  },
  {
   "cell_type": "code",
   "execution_count": 18,
   "id": "ba6f1785",
   "metadata": {},
   "outputs": [
    {
     "data": {
      "text/plain": [
       "sepal length (cm)    0\n",
       "sepal width (cm)     0\n",
       "petal length (cm)    0\n",
       "petal width (cm)     0\n",
       "target               0\n",
       "dtype: int64"
      ]
     },
     "execution_count": 18,
     "metadata": {},
     "output_type": "execute_result"
    }
   ],
   "source": [
    "df.isnull().sum()"
   ]
  },
  {
   "cell_type": "markdown",
   "id": "c7912df4",
   "metadata": {},
   "source": [
    "no missing values in this dataset"
   ]
  },
  {
   "cell_type": "code",
   "execution_count": 4,
   "id": "52a17d34",
   "metadata": {},
   "outputs": [
    {
     "data": {
      "text/plain": [
       "<Axes: ylabel='target'>"
      ]
     },
     "execution_count": 4,
     "metadata": {},
     "output_type": "execute_result"
    },
    {
     "data": {
      "image/png": "[encoded data removed]",
      "text/plain": [
       "<Figure size 640x480 with 1 Axes>"
      ]
     },
     "metadata": {},
     "output_type": "display_data"
    }
   ],
   "source": [
    "df.groupby('target').size().plot(kind='barh')"
   ]
  },
  {
   "cell_type": "markdown",
   "id": "3931ee12",
   "metadata": {},
   "source": [
    "Now from this graph we can see in this dataset three of the class have same amount of data. So, it’s balanced dataset. Now we need a distance function. In KNN we find the distance between the test data with all our dataset. "
   ]
  },
  {
   "cell_type": "markdown",
   "id": "11276339",
   "metadata": {},
   "source": [
    "# Distance Function"
   ]
  },
  {
   "cell_type": "code",
   "execution_count": 5,
   "id": "82666628",
   "metadata": {},
   "outputs": [],
   "source": [
    "def dis(a, b, p=1):\n",
    "    l = len(a)\n",
    "    d = 0\n",
    "    for i in range(l):\n",
    "        d += abs(a[i] - b[i]) ** p\n",
    "    d = d ** (1/p)\n",
    "    return d"
   ]
  },
  {
   "cell_type": "markdown",
   "id": "efaf1276",
   "metadata": {},
   "source": [
    "Now one test point will be executed before splitting data for train and test, it’s to check all implementation, that have been so far. Here the test point that used is test_pt = [4.8, 2.7, 2.5, 0.7]. Here after taking the test point the code will measure distance from this data point with all those 150 data points. Then it’ll convert that list to a python DataFrame for further convenience"
   ]
  },
  {
   "cell_type": "code",
   "execution_count": 6,
   "id": "e19d0a6f",
   "metadata": {},
   "outputs": [
    {
     "data": {
      "text/html": [
       "<div>\n",
       "<style scoped>\n",
       "    .dataframe tbody tr th:only-of-type {\n",
       "        vertical-align: middle;\n",
       "    }\n",
       "\n",
       "    .dataframe tbody tr th {\n",
       "        vertical-align: top;\n",
       "    }\n",
       "\n",
       "    .dataframe thead th {\n",
       "        text-align: right;\n",
       "    }\n",
       "</style>\n",
       "<table border=\"1\" class=\"dataframe\">\n",
       "  <thead>\n",
       "    <tr style=\"text-align: right;\">\n",
       "      <th></th>\n",
       "      <th>dist</th>\n",
       "    </tr>\n",
       "  </thead>\n",
       "  <tbody>\n",
       "    <tr>\n",
       "      <th>0</th>\n",
       "      <td>2.7</td>\n",
       "    </tr>\n",
       "    <tr>\n",
       "      <th>1</th>\n",
       "      <td>2.0</td>\n",
       "    </tr>\n",
       "    <tr>\n",
       "      <th>2</th>\n",
       "      <td>2.3</td>\n",
       "    </tr>\n",
       "    <tr>\n",
       "      <th>3</th>\n",
       "      <td>2.1</td>\n",
       "    </tr>\n",
       "    <tr>\n",
       "      <th>4</th>\n",
       "      <td>2.7</td>\n",
       "    </tr>\n",
       "  </tbody>\n",
       "</table>\n",
       "</div>"
      ],
      "text/plain": [
       "   dist\n",
       "0   2.7\n",
       "1   2.0\n",
       "2   2.3\n",
       "3   2.1\n",
       "4   2.7"
      ]
     },
     "execution_count": 6,
     "metadata": {},
     "output_type": "execute_result"
    }
   ],
   "source": [
    "X = df.drop('target', axis=1)\n",
    "y = df.target\n",
    "test_pt = [4.8, 2.7, 2.5, 0.7]\n",
    "distances = []\n",
    "for i in X.index:\n",
    "    a = dis(test_pt, X.iloc[i])\n",
    "    distances.append(a)\n",
    "dists = pd.DataFrame(data=distances, index=X.index, columns=['dist'])\n",
    "dists.head()"
   ]
  },
  {
   "cell_type": "markdown",
   "id": "675e5d82",
   "metadata": {},
   "source": [
    "# Distance DataFrame is sorted to measure which class the nearest"
   ]
  },
  {
   "cell_type": "code",
   "execution_count": 7,
   "id": "1c4a7a4e",
   "metadata": {},
   "outputs": [],
   "source": [
    "def knn_sort(k,dists): return dists.sort_values(by = 'dist')[:k]"
   ]
  },
  {
   "cell_type": "markdown",
   "id": "73187f0a",
   "metadata": {},
   "source": [
    "Here k is 5. And taking top k distance the majority of the class will be measure. Here a dictionary named count_set is used to keep track of the voting."
   ]
  },
  {
   "cell_type": "code",
   "execution_count": 8,
   "id": "d767a277",
   "metadata": {},
   "outputs": [
    {
     "name": "stdout",
     "output_type": "stream",
     "text": [
      "    dist\n",
      "98   1.4\n",
      "57   1.5\n",
      "93   1.7\n",
      "24   1.8\n",
      "30   1.8\n",
      "1\n"
     ]
    }
   ],
   "source": [
    "sorted_dists = knn_sort(5, dists)\n",
    "print(sorted_dists)\n",
    "\n",
    "count_set = {}\n",
    "for i in sorted_dists.index:\n",
    "    if y[i] not in count_set:\n",
    "        count_set[y[i]] = 1\n",
    "    else:\n",
    "        count_set[y[i]] += 1\n",
    "\n",
    "print(max(count_set))"
   ]
  },
  {
   "cell_type": "markdown",
   "id": "a3c27b1c",
   "metadata": {},
   "source": [
    "Now this code determined the accurate prediction for that data point and now all the data can be splitted for training and testing. Hrere two library function train_test_split and StandardScaler are used from sklearn for splitting and feature scalling"
   ]
  },
  {
   "cell_type": "markdown",
   "id": "faa9cc96",
   "metadata": {},
   "source": [
    "# Model Training"
   ]
  },
  {
   "cell_type": "markdown",
   "id": "61bcafcf",
   "metadata": {},
   "source": [
    "# Split the data - 75% train, 25% test"
   ]
  },
  {
   "cell_type": "code",
   "execution_count": 9,
   "id": "b96929d4",
   "metadata": {},
   "outputs": [],
   "source": [
    "X_train, X_test, y_train, y_test = train_test_split(X, y, test_size=0.25,random_state=1)\n",
    "scaler = StandardScaler()\n",
    "X_train = scaler.fit_transform(X_train)\n",
    "X_test = scaler.transform(X_test)"
   ]
  },
  {
   "cell_type": "markdown",
   "id": "504a9f7e",
   "metadata": {},
   "source": [
    "# Training and predicting the test set and measure accuracy"
   ]
  },
  {
   "cell_type": "code",
   "execution_count": 10,
   "id": "73ef9f4e",
   "metadata": {},
   "outputs": [],
   "source": [
    "def KNN(X_train, X_test, y_train, y_test, k, p):\n",
    "    y_predict = []\n",
    "    for test_pt in X_test:\n",
    "        distances = []\n",
    "        for i in X_train:\n",
    "            a = dis(test_pt, i, p)\n",
    "            distances.append(a)\n",
    "        dists = pd.DataFrame(data=distances, index=y_train.index, columns=['dist'])\n",
    "        sorted_dists = knn_sort(k, dists)\n",
    "        #print(sorted_dists)\n",
    "        count_set = {}\n",
    "        for i in sorted_dists.index:\n",
    "            if y_train[i] not in count_set:\n",
    "                count_set[y_train[i]] = 1\n",
    "            else:\n",
    "                count_set[y_train[i]] += 1\n",
    "        y_predict.append(max(count_set))\n",
    "    y = y_test.tolist()\n",
    "    accr = 0\n",
    "    for i in range(len(y)):\n",
    "        if y[i] == y_predict[i]:\n",
    "            accr += 1\n",
    "    return accr/len(y)\n",
    "    #print('Accuracy',accr/len(y))"
   ]
  },
  {
   "cell_type": "code",
   "execution_count": 11,
   "id": "111ae537",
   "metadata": {},
   "outputs": [
    {
     "data": {
      "text/plain": [
       "0.868421052631579"
      ]
     },
     "execution_count": 11,
     "metadata": {},
     "output_type": "execute_result"
    }
   ],
   "source": [
    "KNN(X_train, X_test, y_train, y_test, 5,1)"
   ]
  },
  {
   "cell_type": "markdown",
   "id": "2a79749a",
   "metadata": {},
   "source": [
    "Now the following code is to see how the model accuracy varies with respect to k value. A simple loop is used to call KNN few times, and the list is represented in a graph."
   ]
  },
  {
   "cell_type": "markdown",
   "id": "aea1e14e",
   "metadata": {},
   "source": [
    "# the best accuracy we can find from KNN in this dataset."
   ]
  },
  {
   "cell_type": "code",
   "execution_count": 12,
   "id": "2b541318",
   "metadata": {},
   "outputs": [
    {
     "name": "stdout",
     "output_type": "stream",
     "text": [
      "0.9736842105263158\n"
     ]
    },
    {
     "data": {
      "text/plain": [
       "Text(0, 0.5, 'Accuracy (%)')"
      ]
     },
     "execution_count": 12,
     "metadata": {},
     "output_type": "execute_result"
    },
    {
     "data": {
      "image/png": "[encoded data removed]",
      "text/plain": [
       "<Figure size 800x600 with 1 Axes>"
      ]
     },
     "metadata": {},
     "output_type": "display_data"
    }
   ],
   "source": [
    "accuracies = []\n",
    "for i in range(1,100):\n",
    "    accuracies.append(KNN(X_train, X_test, y_train, y_test, i,1))\n",
    "\n",
    "print(max(accuracies))\n",
    "\n",
    "fig, ax = plt.subplots(figsize=(8,6))\n",
    "ax.plot(range(1,100), accuracies)\n",
    "ax.set_xlabel('# of Nearest Neighbors (k)')\n",
    "ax.set_ylabel('Accuracy (%)')"
   ]
  },
  {
   "cell_type": "markdown",
   "id": "82e3d140",
   "metadata": {},
   "source": [
    "# Ratio of the Train and Test samples:"
   ]
  },
  {
   "cell_type": "markdown",
   "id": "d040e61f",
   "metadata": {},
   "source": [
    "There are 112 train data sample and 38 test data samples are being considered for this problem. So, the ratio would be –\n",
    "\n",
    "Train data = 112*100/ (113+37) % = 75%\n",
    "\n",
    "Test data = 38*100/(113+37)% = 25%"
   ]
  },
  {
   "cell_type": "markdown",
   "id": "7d0265d1",
   "metadata": {},
   "source": [
    "# Data Visualization"
   ]
  },
  {
   "cell_type": "markdown",
   "id": "b403f046",
   "metadata": {},
   "source": [
    "# Scatter Plot"
   ]
  },
  {
   "cell_type": "code",
   "execution_count": 13,
   "id": "9136c597",
   "metadata": {},
   "outputs": [
    {
     "data": {
      "text/plain": [
       "<Axes: xlabel='sepal length (cm)', ylabel='sepal width (cm)'>"
      ]
     },
     "execution_count": 13,
     "metadata": {},
     "output_type": "execute_result"
    },
    {
     "data": {
      "image/png": "[encoded data removed]",
      "text/plain": [
       "<Figure size 640x480 with 1 Axes>"
      ]
     },
     "metadata": {},
     "output_type": "display_data"
    }
   ],
   "source": [
    "df.plot(kind=\"scatter\", x=\"sepal length (cm)\", y=\"sepal width (cm)\")"
   ]
  },
  {
   "cell_type": "markdown",
   "id": "fa875695",
   "metadata": {},
   "source": [
    "This code uses Seaborn library to create a joint plot of two variables in a Pandas DataFrame. The x and y parameters specify the names of the columns in the DataFrame that we want to plot on the x and y axes, respectively. The data parameter specifies the name of the DataFrame containing the data to be plotted, and size specifies the size of the resulting plot. The joint plot displays a scatter plot of the relationship between the two variables, along with the distributions of each variable along the x and y axes using a histogram. This can help identify patterns or relationships between variables in the data."
   ]
  },
  {
   "cell_type": "code",
   "execution_count": 14,
   "id": "423a7e4a",
   "metadata": {},
   "outputs": [
    {
     "data": {
      "text/plain": [
       "<seaborn.axisgrid.JointGrid at 0x24b12094a90>"
      ]
     },
     "execution_count": 14,
     "metadata": {},
     "output_type": "execute_result"
    },
    {
     "data": {
      "image/png": "[encoded data removed]",
      "text/plain": [
       "<Figure size 600x600 with 3 Axes>"
      ]
     },
     "metadata": {},
     "output_type": "display_data"
    }
   ],
   "source": [
    "sns.jointplot(x=\"sepal length (cm)\", y=\"sepal width (cm)\", data=df, size=5)"
   ]
  },
  {
   "cell_type": "code",
   "execution_count": 15,
   "id": "583c904b",
   "metadata": {},
   "outputs": [
    {
     "data": {
      "text/plain": [
       "<Axes: xlabel='target', ylabel='petal length (cm)'>"
      ]
     },
     "execution_count": 15,
     "metadata": {},
     "output_type": "execute_result"
    },
    {
     "data": {
      "image/png": "[encoded data removed]",
      "text/plain": [
       "<Figure size 640x480 with 1 Axes>"
      ]
     },
     "metadata": {},
     "output_type": "display_data"
    }
   ],
   "source": [
    "sns.boxplot(x=\"target\", y=\"petal length (cm)\", data=df)"
   ]
  },
  {
   "cell_type": "markdown",
   "id": "b6977a6b",
   "metadata": {},
   "source": [
    "This code creates a box plot using Seaborn library to visualize the distribution of a numerical variable (petal length (cm)) for different levels of a categorical variable (target). "
   ]
  },
  {
   "cell_type": "code",
   "execution_count": 16,
   "id": "e8ce376d",
   "metadata": {},
   "outputs": [
    {
     "data": {
      "text/plain": [
       "<Axes: xlabel='target', ylabel='petal length (cm)'>"
      ]
     },
     "execution_count": 16,
     "metadata": {},
     "output_type": "execute_result"
    },
    {
     "data": {
      "image/png": "[encoded data removed]",
      "text/plain": [
       "<Figure size 640x480 with 1 Axes>"
      ]
     },
     "metadata": {},
     "output_type": "display_data"
    }
   ],
   "source": [
    "sns.violinplot(x=\"target\", y=\"petal length (cm)\", data=df, size=6)"
   ]
  },
  {
   "cell_type": "markdown",
   "id": "126a2d58",
   "metadata": {},
   "source": [
    "A violin plot simplifies and combines the benefits of the box plot and kernel density plot. In a violin plot, denser regions of the data are represented by a fatter section, while sparser regions are represented by a thinner section."
   ]
  },
  {
   "cell_type": "markdown",
   "id": "934eeb3e",
   "metadata": {},
   "source": [
    "# Inference"
   ]
  },
  {
   "cell_type": "markdown",
   "id": "afb6c85c",
   "metadata": {},
   "source": [
    "This dataset consists of the following columns sepal length, sepal width, petal length, petal width and knn algorithm is used.\n",
    "first we have loaded the dataset, then found the statistical characteristics, and there are no missing values in this datset and the distance function is calculated to find the value of k, model is splitted 75% for training 25% for test, finallly the data visualisation is done."
   ]
  },
  {
   "cell_type": "code",
   "execution_count": null,
   "id": "7237ce76",
   "metadata": {},
   "outputs": [],
   "source": []
  }
 ],
 "metadata": {
  "kernelspec": {
   "display_name": "Python 3 (ipykernel)",
   "language": "python",
   "name": "python3"
  },
  "language_info": {
   "codemirror_mode": {
    "name": "ipython",
    "version": 3
   },
   "file_extension": ".py",
   "mimetype": "text/x-python",
   "name": "python",
   "nbconvert_exporter": "python",
   "pygments_lexer": "ipython3",
   "version": "3.10.11"
  }
 },
 "nbformat": 4,
 "nbformat_minor": 5
}
